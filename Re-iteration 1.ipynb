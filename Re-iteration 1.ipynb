{
 "cells": [
  {
   "cell_type": "markdown",
   "metadata": {},
   "source": [
    "This re-iteration is based on department 37's Use-of-force data."
   ]
  },
  {
   "cell_type": "code",
   "execution_count": 1,
   "metadata": {},
   "outputs": [],
   "source": [
    "import findspark\n",
    "findspark.init('/home/ubuntu/spark-2.1.1-bin-hadoop2.7')\n",
    "import pyspark\n",
    "from pyspark.sql import SparkSession\n",
    "spark = SparkSession.builder.appName('Step 3 Data Preparation').getOrCreate()\n",
    "from pyspark.sql.functions import *\n",
    "from functools import reduce\n",
    "from pyspark.ml.feature import StringIndexer"
   ]
  },
  {
   "cell_type": "markdown",
   "metadata": {},
   "source": [
    "# 3.1"
   ]
  },
  {
   "cell_type": "code",
   "execution_count": 2,
   "metadata": {},
   "outputs": [],
   "source": [
    "df3 = spark.read.csv('37-00049_UOF-P_2016_prepped.csv', header=True, inferSchema=True)"
   ]
  },
  {
   "cell_type": "code",
   "execution_count": 3,
   "metadata": {},
   "outputs": [],
   "source": [
    "old_col = df3.schema.names #original column headings\n",
    "new_col = [i for i in df3.head(1)[0]] #new column headings\n",
    "df3 = reduce(lambda df3, idx: df3.withColumnRenamed(old_col[idx], new_col[idx]), range(len(old_col)), df3) #replace with lambda function"
   ]
  },
  {
   "cell_type": "code",
   "execution_count": 4,
   "metadata": {},
   "outputs": [],
   "source": [
    "df3 = df3.where(\"OCCURRED_D != 'OCCURRED_D'\")"
   ]
  },
  {
   "cell_type": "code",
   "execution_count": 5,
   "metadata": {},
   "outputs": [],
   "source": [
    "df3 = df3[[\"OffSex\", \"OffRace\", \"INCIDENT_DATE_LESS_\", \"OFF_INJURE_DESC\", \"OFF_HOSPIT\", \"CitRace\", \"CitSex\", \n",
    "           \"SUBJ_INJURE_DESC\", \"CIT_ARREST\", \"CIT_INFL_A\", \"CITChargeT\", \"SERVICE_TY\", \"UOF_REASON\", \"ForceType1\", \"ForceType2\", \n",
    "           \"ForceType3\", \"ForceType4\",\"ForceType5\", \"ForceType6\", \"ForceType7\", \"ForceType8\", \"ForceType9\", \"ForceType10\"]]"
   ]
  },
  {
   "cell_type": "code",
   "execution_count": 6,
   "metadata": {},
   "outputs": [
    {
     "name": "stdout",
     "output_type": "stream",
     "text": [
      "+------+-------+-------------------+--------------------+----------+--------+------+--------------------+----------+-------------------+--------------------+----------+----------+--------------------+---------------+----------+----------+----------+----------+----------+----------+----------+-----------+\n",
      "|OffSex|OffRace|INCIDENT_DATE_LESS_|     OFF_INJURE_DESC|OFF_HOSPIT| CitRace|CitSex|    SUBJ_INJURE_DESC|CIT_ARREST|         CIT_INFL_A|          CITChargeT|SERVICE_TY|UOF_REASON|          ForceType1|     ForceType2|ForceType3|ForceType4|ForceType5|ForceType6|ForceType7|ForceType8|ForceType9|ForceType10|\n",
      "+------+-------+-------------------+--------------------+----------+--------+------+--------------------+----------+-------------------+--------------------+----------+----------+--------------------+---------------+----------+----------+----------+----------+----------+----------+----------+-----------+\n",
      "|  Male|  Black|                  2|No injuries noted...|        No|   Black|Female|Non-Visible Injur...|       Yes|  Mentally unstable|               APOWW|    Arrest|    Arrest|Hand/Arm/Elbow St...|           null|      null|      null|      null|      null|      null|      null|      null|       null|\n",
      "|  Male|  White|                 17|       Sprain/Strain|       Yes|Hispanic|  Male|No injuries noted...|       Yes|  Mentally unstable|               APOWW|    Arrest|    Arrest|         Joint Locks|           null|      null|      null|      null|      null|      null|      null|      null|       null|\n",
      "|  Male|  Black|                  1|No injuries noted...|        No|Hispanic|  Male|No injuries noted...|       Yes|            Unknown|               APOWW|    Arrest|    Arrest|   Take Down - Group|           null|      null|      null|      null|      null|      null|      null|      null|       null|\n",
      "|  Male|  Black|                 24|No injuries noted...|        No|Hispanic|  Male|      Laceration/Cut|       Yes|FD-Unknown if Armed|      Evading Arrest|    Arrest|    Arrest|      K-9 Deployment|           null|      null|      null|      null|      null|      null|      null|      null|       null|\n",
      "|  Male|  White|                  7|No injuries noted...|        No|   Black|  Male|No injuries noted...|       Yes|            Unknown|Other Misdemeanor...|    Arrest|    Arrest|      Verbal Command|Take Down - Arm|      null|      null|      null|      null|      null|      null|      null|       null|\n",
      "+------+-------+-------------------+--------------------+----------+--------+------+--------------------+----------+-------------------+--------------------+----------+----------+--------------------+---------------+----------+----------+----------+----------+----------+----------+----------+-----------+\n",
      "only showing top 5 rows\n",
      "\n"
     ]
    }
   ],
   "source": [
    "df3.show(5)"
   ]
  },
  {
   "cell_type": "markdown",
   "metadata": {},
   "source": [
    "# 3.2"
   ]
  },
  {
   "cell_type": "code",
   "execution_count": 6,
   "metadata": {},
   "outputs": [],
   "source": [
    "missing_values = [\"UNKNOWN\", \"NO DATA ENTERED\", -1, \"No Data\", \"Unknown\", \"unknown\"]\n",
    "for i in missing_values:\n",
    "    for j in df3.columns: #go through all columns to replace codes with null\n",
    "        df3 = df3.withColumn(j, when(df3[j] == i, None).otherwise(df3[j]))"
   ]
  },
  {
   "cell_type": "code",
   "execution_count": 7,
   "metadata": {},
   "outputs": [
    {
     "name": "stdout",
     "output_type": "stream",
     "text": [
      "+------+-------+-------------------+--------------------+----------+--------+------+--------------------+----------+-------------------+--------------------+----------+----------+--------------------+\n",
      "|OffSex|OffRace|INCIDENT_DATE_LESS_|     OFF_INJURE_DESC|OFF_HOSPIT| CitRace|CitSex|    SUBJ_INJURE_DESC|CIT_ARREST|         CIT_INFL_A|          CITChargeT|SERVICE_TY|UOF_REASON|          ForceType1|\n",
      "+------+-------+-------------------+--------------------+----------+--------+------+--------------------+----------+-------------------+--------------------+----------+----------+--------------------+\n",
      "|  Male|  Black|                  2|No injuries noted...|        No|   Black|Female|Non-Visible Injur...|       Yes|  Mentally unstable|               APOWW|    Arrest|    Arrest|Hand/Arm/Elbow St...|\n",
      "|  Male|  White|                 17|       Sprain/Strain|       Yes|Hispanic|  Male|No injuries noted...|       Yes|  Mentally unstable|               APOWW|    Arrest|    Arrest|         Joint Locks|\n",
      "|  Male|  Black|                  1|No injuries noted...|        No|Hispanic|  Male|No injuries noted...|       Yes|               null|               APOWW|    Arrest|    Arrest|   Take Down - Group|\n",
      "|  Male|  Black|                 24|No injuries noted...|        No|Hispanic|  Male|      Laceration/Cut|       Yes|FD-Unknown if Armed|      Evading Arrest|    Arrest|    Arrest|      K-9 Deployment|\n",
      "|  Male|  White|                  7|No injuries noted...|        No|   Black|  Male|No injuries noted...|       Yes|               null|Other Misdemeanor...|    Arrest|    Arrest|      Verbal Command|\n",
      "+------+-------+-------------------+--------------------+----------+--------+------+--------------------+----------+-------------------+--------------------+----------+----------+--------------------+\n",
      "only showing top 5 rows\n",
      "\n"
     ]
    }
   ],
   "source": [
    "x = []\n",
    "for c in df3.columns:\n",
    "    x.append((count(when(df3[c].isNull(), c))*100.0/df3.count()).alias(c))\n",
    "col_emp = df3.select(x).collect()\n",
    "emp_col = [row.asDict() for row in col_emp] #store each column as key and its emptiness as value\n",
    "emp_col = emp_col[0]\n",
    "col_null_g_25p=[i for i in emp_col if emp_col[i] > 25]\n",
    "df3 = df3.drop(*col_null_g_25p)\n",
    "df3.show(5)"
   ]
  },
  {
   "cell_type": "markdown",
   "metadata": {},
   "source": [
    "Only null values for subject race and type of service are considered for rejection."
   ]
  },
  {
   "cell_type": "code",
   "execution_count": 9,
   "metadata": {},
   "outputs": [],
   "source": [
    "df3 = df3.na.drop(subset=[\"CitRace\", \"SERVICE_TY\"])"
   ]
  },
  {
   "cell_type": "markdown",
   "metadata": {},
   "source": [
    "Null values in other fields such as Reason for force, etc. are replaced with \"No reason\"."
   ]
  },
  {
   "cell_type": "code",
   "execution_count": 11,
   "metadata": {},
   "outputs": [],
   "source": [
    "df3 = df3.na.fill('No reason', subset=['CIT_INFL_A', 'UOF_REASON'])"
   ]
  },
  {
   "cell_type": "code",
   "execution_count": null,
   "metadata": {},
   "outputs": [],
   "source": [
    "df3.toPandas().to_csv(\"Department 37 prepped.csv\")"
   ]
  },
  {
   "cell_type": "code",
   "execution_count": 12,
   "metadata": {},
   "outputs": [
    {
     "name": "stdout",
     "output_type": "stream",
     "text": [
      "+------+-------+-------------------+--------------------+----------+--------+------+--------------------+----------+-------------------+--------------------+----------+----------+--------------------+\n",
      "|OffSex|OffRace|INCIDENT_DATE_LESS_|     OFF_INJURE_DESC|OFF_HOSPIT| CitRace|CitSex|    SUBJ_INJURE_DESC|CIT_ARREST|         CIT_INFL_A|          CITChargeT|SERVICE_TY|UOF_REASON|          ForceType1|\n",
      "+------+-------+-------------------+--------------------+----------+--------+------+--------------------+----------+-------------------+--------------------+----------+----------+--------------------+\n",
      "|  Male|  Black|                  2|No injuries noted...|        No|   Black|Female|Non-Visible Injur...|       Yes|  Mentally unstable|               APOWW|    Arrest|    Arrest|Hand/Arm/Elbow St...|\n",
      "|  Male|  White|                 17|       Sprain/Strain|       Yes|Hispanic|  Male|No injuries noted...|       Yes|  Mentally unstable|               APOWW|    Arrest|    Arrest|         Joint Locks|\n",
      "|  Male|  Black|                  1|No injuries noted...|        No|Hispanic|  Male|No injuries noted...|       Yes|          No reason|               APOWW|    Arrest|    Arrest|   Take Down - Group|\n",
      "|  Male|  Black|                 24|No injuries noted...|        No|Hispanic|  Male|      Laceration/Cut|       Yes|FD-Unknown if Armed|      Evading Arrest|    Arrest|    Arrest|      K-9 Deployment|\n",
      "|  Male|  White|                  7|No injuries noted...|        No|   Black|  Male|No injuries noted...|       Yes|          No reason|Other Misdemeanor...|    Arrest|    Arrest|      Verbal Command|\n",
      "+------+-------+-------------------+--------------------+----------+--------+------+--------------------+----------+-------------------+--------------------+----------+----------+--------------------+\n",
      "only showing top 5 rows\n",
      "\n"
     ]
    }
   ],
   "source": [
    "df3.show(5)"
   ]
  },
  {
   "cell_type": "code",
   "execution_count": null,
   "metadata": {},
   "outputs": [],
   "source": []
  }
 ],
 "metadata": {
  "kernelspec": {
   "display_name": "Python 3",
   "language": "python",
   "name": "python3"
  },
  "language_info": {
   "codemirror_mode": {
    "name": "ipython",
    "version": 3
   },
   "file_extension": ".py",
   "mimetype": "text/x-python",
   "name": "python",
   "nbconvert_exporter": "python",
   "pygments_lexer": "ipython3",
   "version": "3.5.2"
  }
 },
 "nbformat": 4,
 "nbformat_minor": 2
}
