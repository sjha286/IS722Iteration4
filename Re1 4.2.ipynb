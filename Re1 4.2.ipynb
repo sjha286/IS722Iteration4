{
 "cells": [
  {
   "cell_type": "code",
   "execution_count": 1,
   "metadata": {},
   "outputs": [],
   "source": [
    "import findspark\n",
    "findspark.init('/home/ubuntu/spark-2.1.1-bin-hadoop2.7')\n",
    "import pyspark\n",
    "from pyspark.sql import SparkSession\n",
    "spark = SparkSession.builder.appName('Step 4 Data Transformation').getOrCreate()\n",
    "from pyspark.ml import Pipeline\n",
    "from pyspark.ml.feature import StringIndexer\n",
    "from pyspark.ml.linalg import Vectors\n",
    "from pyspark.ml.feature import VectorAssembler\n",
    "from pyspark.sql.functions import when"
   ]
  },
  {
   "cell_type": "code",
   "execution_count": 2,
   "metadata": {},
   "outputs": [],
   "source": [
    "df = spark.read.csv('Department 37 prepped.csv', header=True, inferSchema=True)"
   ]
  },
  {
   "cell_type": "markdown",
   "metadata": {},
   "source": [
    "# 4.2"
   ]
  },
  {
   "cell_type": "code",
   "execution_count": 3,
   "metadata": {},
   "outputs": [
    {
     "name": "stdout",
     "output_type": "stream",
     "text": [
      "+------+-------+-------------------+--------------------+----------+--------+------+--------------------+----------+-------------------+--------------------+----------+----------+--------------------+\n",
      "|OffSex|OffRace|INCIDENT_DATE_LESS_|     OFF_INJURE_DESC|OFF_HOSPIT| CitRace|CitSex|    SUBJ_INJURE_DESC|CIT_ARREST|         CIT_INFL_A|          CITChargeT|SERVICE_TY|UOF_REASON|          ForceType1|\n",
      "+------+-------+-------------------+--------------------+----------+--------+------+--------------------+----------+-------------------+--------------------+----------+----------+--------------------+\n",
      "|  Male|  Black|                  2|No injuries noted...|        No|   Black|Female|Non-Visible Injur...|       Yes|  Mentally unstable|               APOWW|    Arrest|    Arrest|Hand/Arm/Elbow St...|\n",
      "|  Male|  White|                 17|       Sprain/Strain|       Yes|Hispanic|  Male|No injuries noted...|       Yes|  Mentally unstable|               APOWW|    Arrest|    Arrest|         Joint Locks|\n",
      "|  Male|  Black|                  1|No injuries noted...|        No|Hispanic|  Male|No injuries noted...|       Yes|          No reason|               APOWW|    Arrest|    Arrest|   Take Down - Group|\n",
      "|  Male|  Black|                 24|No injuries noted...|        No|Hispanic|  Male|      Laceration/Cut|       Yes|FD-Unknown if Armed|      Evading Arrest|    Arrest|    Arrest|      K-9 Deployment|\n",
      "|  Male|  White|                  7|No injuries noted...|        No|   Black|  Male|No injuries noted...|       Yes|          No reason|Other Misdemeanor...|    Arrest|    Arrest|      Verbal Command|\n",
      "+------+-------+-------------------+--------------------+----------+--------+------+--------------------+----------+-------------------+--------------------+----------+----------+--------------------+\n",
      "only showing top 5 rows\n",
      "\n"
     ]
    }
   ],
   "source": [
    "df = df.drop(\"_c0\") #column was created by writing to csv in previous step, not required now\n",
    "df.show(5)"
   ]
  },
  {
   "cell_type": "code",
   "execution_count": 4,
   "metadata": {},
   "outputs": [],
   "source": [
    "encodeddf = df\n",
    "x = df.columns\n",
    "x.remove(\"INCIDENT_DATE_LESS_\") #already numerical\n",
    "x.remove(\"CitSex\") #this field throws errors while encoding hence must be encoded manually\n",
    "for i in x:\n",
    "    ic = i\n",
    "    oc = i+\" encoded\"\n",
    "    indexer = StringIndexer(inputCol=ic, outputCol=oc)\n",
    "    encodeddf = indexer.fit(encodeddf).transform(encodeddf)"
   ]
  },
  {
   "cell_type": "code",
   "execution_count": 5,
   "metadata": {},
   "outputs": [],
   "source": [
    "y = [i for i in encodeddf.columns if i not in x] #storing only those columns which are numerical\n",
    "encodeddf = encodeddf[y]"
   ]
  },
  {
   "cell_type": "code",
   "execution_count": 6,
   "metadata": {},
   "outputs": [],
   "source": [
    "encodeddf = encodeddf.withColumn(\"CitSex encoded\", when(df[\"CitSex\"] == \"Male\", 1.0).otherwise(2.0)) #only two genders"
   ]
  },
  {
   "cell_type": "code",
   "execution_count": 7,
   "metadata": {},
   "outputs": [
    {
     "name": "stdout",
     "output_type": "stream",
     "text": [
      "+-------------------+--------------+---------------+-----------------------+------------------+---------------+------------------------+------------------+------------------+------------------+------------------+------------------+------------------+--------------+\n",
      "|INCIDENT_DATE_LESS_|OffSex encoded|OffRace encoded|OFF_INJURE_DESC encoded|OFF_HOSPIT encoded|CitRace encoded|SUBJ_INJURE_DESC encoded|CIT_ARREST encoded|CIT_INFL_A encoded|CITChargeT encoded|SERVICE_TY encoded|UOF_REASON encoded|ForceType1 encoded|CitSex encoded|\n",
      "+-------------------+--------------+---------------+-----------------------+------------------+---------------+------------------------+------------------+------------------+------------------+------------------+------------------+------------------+--------------+\n",
      "|                  2|           0.0|            2.0|                    0.0|               0.0|            0.0|                     4.0|               0.0|               0.0|               0.0|               0.0|               0.0|              13.0|           2.0|\n",
      "|                 17|           0.0|            0.0|                    3.0|               1.0|            1.0|                     0.0|               0.0|               0.0|               0.0|               0.0|               0.0|               5.0|           1.0|\n",
      "|                  1|           0.0|            2.0|                    0.0|               0.0|            1.0|                     0.0|               0.0|               2.0|               0.0|               0.0|               0.0|              16.0|           1.0|\n",
      "|                 24|           0.0|            2.0|                    0.0|               0.0|            1.0|                     2.0|               0.0|               6.0|               6.0|               0.0|               0.0|              19.0|           1.0|\n",
      "|                  7|           0.0|            0.0|                    0.0|               0.0|            0.0|                     0.0|               0.0|               2.0|               8.0|               0.0|               0.0|               0.0|           1.0|\n",
      "+-------------------+--------------+---------------+-----------------------+------------------+---------------+------------------------+------------------+------------------+------------------+------------------+------------------+------------------+--------------+\n",
      "only showing top 5 rows\n",
      "\n"
     ]
    }
   ],
   "source": [
    "encodeddf = encodeddf.drop(\"CitSex\")\n",
    "encodeddf.show(5)"
   ]
  },
  {
   "cell_type": "markdown",
   "metadata": {},
   "source": [
    "Now we can use VectorAssembly to convert the dataframe into a (features, labels) vector. \"CIT_ARREST encoded\" is the label."
   ]
  },
  {
   "cell_type": "code",
   "execution_count": 8,
   "metadata": {},
   "outputs": [],
   "source": [
    "x = encodeddf.columns\n",
    "x.remove(\"CIT_ARREST encoded\")\n",
    "af = VectorAssembler(inputCols = x, outputCol = \"features\")"
   ]
  },
  {
   "cell_type": "code",
   "execution_count": 9,
   "metadata": {},
   "outputs": [],
   "source": [
    "output = af.transform(encodeddf)"
   ]
  },
  {
   "cell_type": "code",
   "execution_count": 10,
   "metadata": {},
   "outputs": [],
   "source": [
    "final = output.select(\"features\", \"CIT_ARREST encoded\")"
   ]
  },
  {
   "cell_type": "code",
   "execution_count": 11,
   "metadata": {},
   "outputs": [
    {
     "name": "stdout",
     "output_type": "stream",
     "text": [
      "+--------------------+------------------+\n",
      "|            features|CIT_ARREST encoded|\n",
      "+--------------------+------------------+\n",
      "|(13,[0,2,6,11,12]...|               0.0|\n",
      "|(13,[0,3,4,5,11,1...|               0.0|\n",
      "|(13,[0,2,5,7,11,1...|               0.0|\n",
      "|[24.0,0.0,2.0,0.0...|               0.0|\n",
      "|(13,[0,7,8,12],[7...|               0.0|\n",
      "+--------------------+------------------+\n",
      "only showing top 5 rows\n",
      "\n"
     ]
    }
   ],
   "source": [
    "final.show(5)"
   ]
  },
  {
   "cell_type": "code",
   "execution_count": 12,
   "metadata": {},
   "outputs": [],
   "source": [
    "final.toPandas().to_csv(\"Department 37 vector.csv\")"
   ]
  }
 ],
 "metadata": {
  "kernelspec": {
   "display_name": "Python 3",
   "language": "python",
   "name": "python3"
  },
  "language_info": {
   "codemirror_mode": {
    "name": "ipython",
    "version": 3
   },
   "file_extension": ".py",
   "mimetype": "text/x-python",
   "name": "python",
   "nbconvert_exporter": "python",
   "pygments_lexer": "ipython3",
   "version": "3.5.2"
  }
 },
 "nbformat": 4,
 "nbformat_minor": 2
}
