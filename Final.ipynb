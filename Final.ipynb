{
 "cells": [
  {
   "cell_type": "code",
   "execution_count": 1,
   "metadata": {},
   "outputs": [],
   "source": [
    "import findspark\n",
    "findspark.init('/home/ubuntu/spark-2.1.1-bin-hadoop2.7')\n",
    "import pyspark\n",
    "from pyspark.sql import SparkSession\n",
    "spark = SparkSession.builder.appName('Final steps').getOrCreate()\n",
    "from pyspark import SparkContext, SparkConf\n",
    "sp = SparkConf().setAppName('Final steps').setMaster(\"local[*]\")\n",
    "sc = SparkContext.getOrCreate(spark)\n",
    "from pyspark.ml import Pipeline\n",
    "from pyspark.ml.feature import StringIndexer\n",
    "from pyspark.ml.feature import VectorAssembler\n",
    "from pyspark.sql.functions import when\n",
    "from pyspark.ml.classification import DecisionTreeClassifier, RandomForestClassifier, LogisticRegression\n",
    "from pyspark.ml.evaluation import BinaryClassificationEvaluator, MulticlassClassificationEvaluator\n",
    "from pyspark.mllib.evaluation import BinaryClassificationMetrics, MulticlassMetrics\n",
    "from pyspark.ml.regression import DecisionTreeRegressor\n",
    "import numpy as np\n",
    "import matplotlib.pyplot as plt"
   ]
  },
  {
   "cell_type": "code",
   "execution_count": 2,
   "metadata": {},
   "outputs": [],
   "source": [
    "df = spark.read.csv('Department 37 prepped.csv', header=True, inferSchema=True)"
   ]
  },
  {
   "cell_type": "markdown",
   "metadata": {},
   "source": [
    "# 4.2"
   ]
  },
  {
   "cell_type": "code",
   "execution_count": 3,
   "metadata": {},
   "outputs": [
    {
     "name": "stdout",
     "output_type": "stream",
     "text": [
      "+------+-------+-------------------+--------------------+----------+--------+------+--------------------+----------+-------------------+--------------------+----------+----------+--------------------+\n",
      "|OffSex|OffRace|INCIDENT_DATE_LESS_|     OFF_INJURE_DESC|OFF_HOSPIT| CitRace|CitSex|    SUBJ_INJURE_DESC|CIT_ARREST|         CIT_INFL_A|          CITChargeT|SERVICE_TY|UOF_REASON|          ForceType1|\n",
      "+------+-------+-------------------+--------------------+----------+--------+------+--------------------+----------+-------------------+--------------------+----------+----------+--------------------+\n",
      "|  Male|  Black|                  2|No injuries noted...|        No|   Black|Female|Non-Visible Injur...|       Yes|  Mentally unstable|               APOWW|    Arrest|    Arrest|Hand/Arm/Elbow St...|\n",
      "|  Male|  White|                 17|       Sprain/Strain|       Yes|Hispanic|  Male|No injuries noted...|       Yes|  Mentally unstable|               APOWW|    Arrest|    Arrest|         Joint Locks|\n",
      "|  Male|  Black|                  1|No injuries noted...|        No|Hispanic|  Male|No injuries noted...|       Yes|          No reason|               APOWW|    Arrest|    Arrest|   Take Down - Group|\n",
      "|  Male|  Black|                 24|No injuries noted...|        No|Hispanic|  Male|      Laceration/Cut|       Yes|FD-Unknown if Armed|      Evading Arrest|    Arrest|    Arrest|      K-9 Deployment|\n",
      "|  Male|  White|                  7|No injuries noted...|        No|   Black|  Male|No injuries noted...|       Yes|          No reason|Other Misdemeanor...|    Arrest|    Arrest|      Verbal Command|\n",
      "+------+-------+-------------------+--------------------+----------+--------+------+--------------------+----------+-------------------+--------------------+----------+----------+--------------------+\n",
      "only showing top 5 rows\n",
      "\n"
     ]
    }
   ],
   "source": [
    "df = df.drop(\"_c0\") #column was created by writing to csv in previous step, not required now\n",
    "df.show(5)"
   ]
  },
  {
   "cell_type": "code",
   "execution_count": 4,
   "metadata": {},
   "outputs": [],
   "source": [
    "encodeddf = df\n",
    "x = df.columns\n",
    "x.remove(\"INCIDENT_DATE_LESS_\") #already numerical\n",
    "x.remove(\"CitSex\") #this field throws errors while encoding hence must be encoded manually\n",
    "for i in x:\n",
    "    ic = i\n",
    "    oc = i+\" encoded\"\n",
    "    indexer = StringIndexer(inputCol=ic, outputCol=oc)\n",
    "    encodeddf = indexer.fit(encodeddf).transform(encodeddf)"
   ]
  },
  {
   "cell_type": "code",
   "execution_count": 5,
   "metadata": {},
   "outputs": [],
   "source": [
    "y = [i for i in encodeddf.columns if i not in x] #storing only those columns which are numerical\n",
    "encodeddf = encodeddf[y]"
   ]
  },
  {
   "cell_type": "code",
   "execution_count": 6,
   "metadata": {},
   "outputs": [],
   "source": [
    "encodeddf = encodeddf.withColumn(\"CitSex encoded\", when(df[\"CitSex\"] == \"Male\", 1.0).otherwise(2.0)) #only two genders"
   ]
  },
  {
   "cell_type": "code",
   "execution_count": 7,
   "metadata": {},
   "outputs": [
    {
     "name": "stdout",
     "output_type": "stream",
     "text": [
      "+-------------------+--------------+---------------+-----------------------+------------------+---------------+------------------------+------------------+------------------+------------------+------------------+------------------+------------------+--------------+\n",
      "|INCIDENT_DATE_LESS_|OffSex encoded|OffRace encoded|OFF_INJURE_DESC encoded|OFF_HOSPIT encoded|CitRace encoded|SUBJ_INJURE_DESC encoded|CIT_ARREST encoded|CIT_INFL_A encoded|CITChargeT encoded|SERVICE_TY encoded|UOF_REASON encoded|ForceType1 encoded|CitSex encoded|\n",
      "+-------------------+--------------+---------------+-----------------------+------------------+---------------+------------------------+------------------+------------------+------------------+------------------+------------------+------------------+--------------+\n",
      "|                  2|           0.0|            2.0|                    0.0|               0.0|            0.0|                     4.0|               0.0|               0.0|               0.0|               0.0|               0.0|              13.0|           2.0|\n",
      "|                 17|           0.0|            0.0|                    3.0|               1.0|            1.0|                     0.0|               0.0|               0.0|               0.0|               0.0|               0.0|               5.0|           1.0|\n",
      "|                  1|           0.0|            2.0|                    0.0|               0.0|            1.0|                     0.0|               0.0|               2.0|               0.0|               0.0|               0.0|              16.0|           1.0|\n",
      "|                 24|           0.0|            2.0|                    0.0|               0.0|            1.0|                     2.0|               0.0|               6.0|               6.0|               0.0|               0.0|              19.0|           1.0|\n",
      "|                  7|           0.0|            0.0|                    0.0|               0.0|            0.0|                     0.0|               0.0|               2.0|               8.0|               0.0|               0.0|               0.0|           1.0|\n",
      "+-------------------+--------------+---------------+-----------------------+------------------+---------------+------------------------+------------------+------------------+------------------+------------------+------------------+------------------+--------------+\n",
      "only showing top 5 rows\n",
      "\n"
     ]
    }
   ],
   "source": [
    "encodeddf = encodeddf.drop(\"CitSex\")\n",
    "encodeddf.show(5)"
   ]
  },
  {
   "cell_type": "markdown",
   "metadata": {},
   "source": [
    "Now we can use VectorAssembly to convert the dataframe into a (features, labels) vector. \"CIT_ARREST encoded\" is the label."
   ]
  },
  {
   "cell_type": "code",
   "execution_count": 8,
   "metadata": {},
   "outputs": [],
   "source": [
    "af = VectorAssembler(inputCols = ['INCIDENT_DATE_LESS_', 'OffSex encoded', 'OffRace encoded', 'OFF_INJURE_DESC encoded',\n",
    " 'OFF_HOSPIT encoded', 'CitRace encoded', 'SUBJ_INJURE_DESC encoded', 'CIT_INFL_A encoded', 'CITChargeT encoded', \n",
    "                                  'SERVICE_TY encoded', 'UOF_REASON encoded', 'ForceType1 encoded', 'CitSex encoded'], \n",
    "                     outputCol = \"features\")"
   ]
  },
  {
   "cell_type": "code",
   "execution_count": 9,
   "metadata": {},
   "outputs": [],
   "source": [
    "output = af.transform(encodeddf)"
   ]
  },
  {
   "cell_type": "code",
   "execution_count": 10,
   "metadata": {},
   "outputs": [],
   "source": [
    "final = output.select(\"features\", \"CIT_ARREST encoded\")"
   ]
  },
  {
   "cell_type": "code",
   "execution_count": 11,
   "metadata": {},
   "outputs": [
    {
     "name": "stdout",
     "output_type": "stream",
     "text": [
      "+--------------------+------------------+\n",
      "|            features|CIT_ARREST encoded|\n",
      "+--------------------+------------------+\n",
      "|(13,[0,2,6,11,12]...|               0.0|\n",
      "|(13,[0,3,4,5,11,1...|               0.0|\n",
      "|(13,[0,2,5,7,11,1...|               0.0|\n",
      "|[24.0,0.0,2.0,0.0...|               0.0|\n",
      "|(13,[0,7,8,12],[7...|               0.0|\n",
      "+--------------------+------------------+\n",
      "only showing top 5 rows\n",
      "\n"
     ]
    }
   ],
   "source": [
    "final.show(5)"
   ]
  },
  {
   "cell_type": "code",
   "execution_count": 11,
   "metadata": {},
   "outputs": [],
   "source": [
    "(trainingData, testData) = final.randomSplit([0.7, 0.3]) #this code is used again in 7.1"
   ]
  },
  {
   "cell_type": "markdown",
   "metadata": {},
   "source": [
    "# 6.3"
   ]
  },
  {
   "cell_type": "code",
   "execution_count": 13,
   "metadata": {},
   "outputs": [
    {
     "name": "stdout",
     "output_type": "stream",
     "text": [
      "Area under curve: 0.8513157894736842\n",
      "Accuracy: 0.821173104434907\n",
      "Area under curve: 0.8462181944928547\n",
      "Accuracy: 0.821173104434907\n",
      "Area under curve: 0.8794179156500523\n",
      "Accuracy: 0.8226037195994278\n",
      "Area under curve: 0.9207127919135587\n",
      "Accuracy: 0.8569384835479256\n",
      "Area under curve: 0.9402230742418962\n",
      "Accuracy: 0.8569384835479256\n",
      "Area under curve: 0.9428546531892645\n",
      "Accuracy: 0.8597997138769671\n",
      "Area under curve: 0.9288166608574415\n",
      "Accuracy: 0.8497854077253219\n",
      "Area under curve: 0.9247995817357966\n",
      "Accuracy: 0.8483547925608012\n",
      "Area under curve: 0.924860578598815\n",
      "Accuracy: 0.8426323319027181\n"
     ]
    }
   ],
   "source": [
    "#area under ROC curve is used to determine the best value for tree depth\n",
    "for i in range(2,11):\n",
    "    dt = DecisionTreeClassifier(labelCol=\"CIT_ARREST encoded\", featuresCol=\"features\", maxDepth=i, maxBins=552)\n",
    "    model = dt.fit(trainingData)\n",
    "    pred = model.transform(testData)\n",
    "    binev = BinaryClassificationEvaluator(labelCol = 'CIT_ARREST encoded')\n",
    "    print(\"Area under curve:\", binev.evaluate(pred))\n",
    "    mev = MulticlassClassificationEvaluator(labelCol=\"CIT_ARREST encoded\", predictionCol=\"prediction\", metricName=\"accuracy\")\n",
    "    print(\"Accuracy:\", mev.evaluate(pred))"
   ]
  },
  {
   "cell_type": "code",
   "execution_count": 13,
   "metadata": {},
   "outputs": [
    {
     "name": "stdout",
     "output_type": "stream",
     "text": [
      "Area under curve: 0.9182284934654653\n",
      "Accuracy: 0.8099861303744799\n",
      "Area under curve: 0.9206520178084209\n",
      "Accuracy: 0.8072122052704577\n",
      "Area under curve: 0.9202929771650195\n",
      "Accuracy: 0.811373092926491\n",
      "Area under curve: 0.9216932356742831\n",
      "Accuracy: 0.8085991678224688\n",
      "Area under curve: 0.9223754128967445\n",
      "Accuracy: 0.8085991678224688\n",
      "Area under curve: 0.922806261668825\n",
      "Accuracy: 0.811373092926491\n",
      "Area under curve: 0.9259299152664112\n",
      "Accuracy: 0.8085991678224688\n",
      "Area under curve: 0.9242244722102582\n",
      "Accuracy: 0.8085991678224688\n",
      "Area under curve: 0.9207597300014405\n",
      "Accuracy: 0.8085991678224688\n"
     ]
    }
   ],
   "source": [
    "#area under ROC curve is used to determine the best value for tree depth\n",
    "for i in range(50,500,50): #increasing number of trees by 50 each time\n",
    "    rf = RandomForestClassifier(labelCol=\"CIT_ARREST encoded\", featuresCol=\"features\", numTrees=i, maxDepth=4, maxBins=552)\n",
    "    model = rf.fit(trainingData)\n",
    "    pred = model.transform(testData)\n",
    "    binev = BinaryClassificationEvaluator(labelCol = 'CIT_ARREST encoded')\n",
    "    print(\"Area under curve:\", binev.evaluate(pred))\n",
    "    mev = MulticlassClassificationEvaluator(labelCol=\"CIT_ARREST encoded\", predictionCol=\"prediction\", metricName=\"accuracy\")\n",
    "    print(\"Accuracy:\", mev.evaluate(pred))"
   ]
  },
  {
   "cell_type": "code",
   "execution_count": 12,
   "metadata": {},
   "outputs": [
    {
     "name": "stdout",
     "output_type": "stream",
     "text": [
      "Area under curve: 0.8318364197530889\n",
      "Accuracy: 0.8636363636363636\n",
      "Area under curve: 0.828641975308643\n",
      "Accuracy: 0.8636363636363636\n",
      "Area under curve: 0.8285802469135813\n",
      "Accuracy: 0.8636363636363636\n",
      "Area under curve: 0.8285648148148158\n",
      "Accuracy: 0.8636363636363636\n",
      "Area under curve: 0.8285648148148158\n",
      "Accuracy: 0.8636363636363636\n",
      "Area under curve: 0.8285648148148158\n",
      "Accuracy: 0.8636363636363636\n",
      "Area under curve: 0.8285648148148158\n",
      "Accuracy: 0.8636363636363636\n",
      "Area under curve: 0.8285648148148158\n",
      "Accuracy: 0.8636363636363636\n",
      "Area under curve: 0.8285648148148158\n",
      "Accuracy: 0.8636363636363636\n"
     ]
    }
   ],
   "source": [
    "#area under ROC curve is used to determine the best values\n",
    "for i in range(10,100,10): #increasing number of iterations by 10 each time\n",
    "    lr = LogisticRegression(labelCol=\"CIT_ARREST encoded\", featuresCol=\"features\", maxIter=i, family=\"binomial\")\n",
    "    model = lr.fit(trainingData)\n",
    "    pred = model.transform(testData)\n",
    "    binev = BinaryClassificationEvaluator(labelCol = 'CIT_ARREST encoded')\n",
    "    print(\"Area under curve:\", binev.evaluate(pred))\n",
    "    mev = MulticlassClassificationEvaluator(labelCol=\"CIT_ARREST encoded\", predictionCol=\"prediction\", metricName=\"accuracy\")\n",
    "    print(\"Accuracy:\", mev.evaluate(pred))"
   ]
  },
  {
   "cell_type": "code",
   "execution_count": 13,
   "metadata": {},
   "outputs": [
    {
     "name": "stdout",
     "output_type": "stream",
     "text": [
      "Area under curve: 0.8318364197530889\n",
      "Accuracy: 0.8636363636363636\n",
      "Area under curve: 0.8194753086419786\n",
      "Accuracy: 0.8609625668449198\n",
      "Area under curve: 0.8141203703703732\n",
      "Accuracy: 0.8636363636363636\n",
      "Area under curve: 0.8127160493827185\n",
      "Accuracy: 0.8663101604278075\n",
      "Area under curve: 0.8114660493827185\n",
      "Accuracy: 0.8663101604278075\n",
      "Area under curve: 0.8106327160493852\n",
      "Accuracy: 0.8663101604278075\n",
      "Area under curve: 0.8102006172839533\n",
      "Accuracy: 0.8663101604278075\n",
      "Area under curve: 0.8098765432098792\n",
      "Accuracy: 0.8663101604278075\n",
      "Area under curve: 0.8097067901234596\n",
      "Accuracy: 0.8663101604278075\n",
      "Area under curve: 0.8095524691358054\n",
      "Accuracy: 0.8663101604278075\n"
     ]
    }
   ],
   "source": [
    "#area under ROC curve is used to determine the best values\n",
    "for i in np.arange(0,1,0.1): #numpy is not used for any actual data mining, but just to run a loop of float values\n",
    "    lr = LogisticRegression(labelCol=\"CIT_ARREST encoded\", featuresCol=\"features\", maxIter=10, regParam=i, family=\"binomial\")\n",
    "    model = lr.fit(trainingData)\n",
    "    pred = model.transform(testData)\n",
    "    binev = BinaryClassificationEvaluator(labelCol = 'CIT_ARREST encoded')\n",
    "    print(\"Area under curve:\", binev.evaluate(pred))\n",
    "    mev = MulticlassClassificationEvaluator(labelCol=\"CIT_ARREST encoded\", predictionCol=\"prediction\", metricName=\"accuracy\")\n",
    "    print(\"Accuracy:\", mev.evaluate(pred))"
   ]
  },
  {
   "cell_type": "markdown",
   "metadata": {},
   "source": [
    "# 7.2"
   ]
  },
  {
   "cell_type": "markdown",
   "metadata": {},
   "source": [
    "Decision Tree"
   ]
  },
  {
   "cell_type": "code",
   "execution_count": 14,
   "metadata": {},
   "outputs": [],
   "source": [
    "dt = DecisionTreeClassifier(labelCol=\"CIT_ARREST encoded\", featuresCol=\"features\", maxDepth=4, maxBins=552)\n",
    "dtmodel = dt.fit(trainingData)\n",
    "dtpred = dtmodel.transform(testData)"
   ]
  },
  {
   "cell_type": "code",
   "execution_count": 15,
   "metadata": {},
   "outputs": [],
   "source": [
    "results = dtpred.select(\"prediction\", \"CIT_ARREST encoded\")\n",
    "dt_sal = sc.parallelize([(i[0], i[1]) for i in results.collect()]) #create score and label list\n",
    "binev = BinaryClassificationEvaluator(labelCol = 'CIT_ARREST encoded')\n",
    "metrics2 = MulticlassMetrics(dt_sal)"
   ]
  },
  {
   "cell_type": "code",
   "execution_count": 16,
   "metadata": {},
   "outputs": [
    {
     "name": "stdout",
     "output_type": "stream",
     "text": [
      "Area under curve: 0.8326157407407406\n",
      "Precision = 0.9718045112781954 and recall = 0.7978395061728395 for \"Arrested\" class\n",
      "Precision = 0.39351851851851855 and recall = 0.85 for \"Not arrested\" class\n"
     ]
    }
   ],
   "source": [
    "print(\"Area under curve:\", binev.evaluate(dtpred))\n",
    "print(\"Precision = %s and recall = %s for \\\"Arrested\\\" class\" % (metrics2.precision(0), metrics2.recall(0)))\n",
    "print(\"Precision = %s and recall = %s for \\\"Not arrested\\\" class\" % (metrics2.precision(1), metrics2.recall(1)))"
   ]
  },
  {
   "cell_type": "markdown",
   "metadata": {},
   "source": [
    "Random Forest"
   ]
  },
  {
   "cell_type": "code",
   "execution_count": 17,
   "metadata": {},
   "outputs": [],
   "source": [
    "rf = RandomForestClassifier(labelCol=\"CIT_ARREST encoded\", featuresCol=\"features\", numTrees=100, maxDepth=4, maxBins=552)\n",
    "rfmodel = rf.fit(trainingData)\n",
    "rfpred = rfmodel.transform(testData)"
   ]
  },
  {
   "cell_type": "code",
   "execution_count": 18,
   "metadata": {},
   "outputs": [],
   "source": [
    "results = rfpred.select(\"prediction\", \"CIT_ARREST encoded\")\n",
    "rf_sal = sc.parallelize([(i[0], i[1]) for i in results.collect()]) #create score and label list\n",
    "binev = BinaryClassificationEvaluator(labelCol = 'CIT_ARREST encoded')\n",
    "metrics2 = MulticlassMetrics(rf_sal)"
   ]
  },
  {
   "cell_type": "code",
   "execution_count": 19,
   "metadata": {},
   "outputs": [
    {
     "name": "stdout",
     "output_type": "stream",
     "text": [
      "Area under curve: 0.9070061728395092\n",
      "Precision = 0.9753320683111955 and recall = 0.7932098765432098 for \"Arrested\" class\n",
      "Precision = 0.3936651583710407 and recall = 0.87 for \"Not arrested\" class\n"
     ]
    }
   ],
   "source": [
    "print(\"Area under curve:\", binev.evaluate(rfpred))\n",
    "print(\"Precision = %s and recall = %s for \\\"Arrested\\\" class\" % (metrics2.precision(0), metrics2.recall(0)))\n",
    "print(\"Precision = %s and recall = %s for \\\"Not arrested\\\" class\" % (metrics2.precision(1), metrics2.recall(1)))"
   ]
  },
  {
   "cell_type": "markdown",
   "metadata": {},
   "source": [
    "Logistic Regression"
   ]
  },
  {
   "cell_type": "code",
   "execution_count": 20,
   "metadata": {},
   "outputs": [],
   "source": [
    "lr = LogisticRegression(labelCol=\"CIT_ARREST encoded\", featuresCol=\"features\", maxIter=10, family=\"binomial\")\n",
    "lrmodel = lr.fit(trainingData)\n",
    "lrpred = lrmodel.transform(testData)"
   ]
  },
  {
   "cell_type": "code",
   "execution_count": 21,
   "metadata": {},
   "outputs": [],
   "source": [
    "results = rfpred.select(\"prediction\", \"CIT_ARREST encoded\")\n",
    "lr_sal = sc.parallelize([(i[0], i[1]) for i in results.collect()]) #create score and label list\n",
    "binev = BinaryClassificationEvaluator(labelCol = 'CIT_ARREST encoded')\n",
    "metrics2 = MulticlassMetrics(lr_sal)"
   ]
  },
  {
   "cell_type": "code",
   "execution_count": 22,
   "metadata": {
    "scrolled": true
   },
   "outputs": [
    {
     "name": "stdout",
     "output_type": "stream",
     "text": [
      "Area under curve: 0.8318364197530889\n",
      "Precision = 0.9753320683111955 and recall = 0.7932098765432098 for \"Arrested\" class\n",
      "Precision = 0.3936651583710407 and recall = 0.87 for \"Not arrested\" class\n"
     ]
    }
   ],
   "source": [
    "print(\"Area under curve:\", binev.evaluate(lrpred))\n",
    "print(\"Precision = %s and recall = %s for \\\"Arrested\\\" class\" % (metrics2.precision(0), metrics2.recall(0)))\n",
    "print(\"Precision = %s and recall = %s for \\\"Not arrested\\\" class\" % (metrics2.precision(1), metrics2.recall(1)))"
   ]
  },
  {
   "cell_type": "markdown",
   "metadata": {},
   "source": [
    "# 7.3"
   ]
  },
  {
   "cell_type": "markdown",
   "metadata": {},
   "source": [
    "Now we plot the feature importance for decision trees"
   ]
  },
  {
   "cell_type": "code",
   "execution_count": 23,
   "metadata": {},
   "outputs": [
    {
     "data": {
      "image/png": "[encoded data removed]",
      "text/plain": [
       "<Figure size 1656x432 with 1 Axes>"
      ]
     },
     "metadata": {},
     "output_type": "display_data"
    }
   ],
   "source": [
    "x = df.columns\n",
    "x.remove(\"CIT_ARREST\") #label\n",
    "plt.figure(figsize=(23,6))\n",
    "plt.bar(x, dtmodel.featureImportances)\n",
    "plt.xticks(rotation=90)\n",
    "plt.title(\"Decision tree feature importance\")\n",
    "plt.show()"
   ]
  },
  {
   "cell_type": "markdown",
   "metadata": {},
   "source": [
    "Now we plot the feature importance for random forest"
   ]
  },
  {
   "cell_type": "code",
   "execution_count": 24,
   "metadata": {},
   "outputs": [
    {
     "data": {
      "image/png": "[encoded data removed]",
      "text/plain": [
       "<Figure size 1656x432 with 1 Axes>"
      ]
     },
     "metadata": {},
     "output_type": "display_data"
    }
   ],
   "source": [
    "x = df.columns\n",
    "x.remove(\"CIT_ARREST\") #label\n",
    "plt.figure(figsize=(23,6))\n",
    "plt.bar(x, rfmodel.featureImportances)\n",
    "plt.xticks(rotation=90)\n",
    "plt.title(\"Random forest feature importance\")\n",
    "plt.show()"
   ]
  },
  {
   "cell_type": "code",
   "execution_count": 25,
   "metadata": {},
   "outputs": [
    {
     "data": {
      "image/png": "[encoded data removed]",
      "text/plain": [
       "<Figure size 1656x432 with 1 Axes>"
      ]
     },
     "metadata": {},
     "output_type": "display_data"
    }
   ],
   "source": [
    "x = df.columns\n",
    "x.remove(\"CIT_ARREST\") #label\n",
    "plt.figure(figsize=(23,6))\n",
    "plt.bar(x, lrmodel.coefficients)\n",
    "plt.xticks(rotation=90)\n",
    "plt.title(\"Logistic regression feature coefficients\")\n",
    "plt.show()"
   ]
  }
 ],
 "metadata": {
  "kernelspec": {
   "display_name": "Python 3",
   "language": "python",
   "name": "python3"
  },
  "language_info": {
   "codemirror_mode": {
    "name": "ipython",
    "version": 3
   },
   "file_extension": ".py",
   "mimetype": "text/x-python",
   "name": "python",
   "nbconvert_exporter": "python",
   "pygments_lexer": "ipython3",
   "version": "3.5.2"
  }
 },
 "nbformat": 4,
 "nbformat_minor": 2
}
